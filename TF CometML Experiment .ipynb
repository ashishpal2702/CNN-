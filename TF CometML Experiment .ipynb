{
 "cells": [
  {
   "cell_type": "code",
   "execution_count": null,
   "id": "68853468-2211-467d-ac9b-4112549f5e1d",
   "metadata": {},
   "outputs": [],
   "source": []
  },
  {
   "cell_type": "code",
   "execution_count": 188,
   "id": "17900534-7877-40c1-bc00-384c2dafee8c",
   "metadata": {},
   "outputs": [],
   "source": [
    "# Mapping Classes\n",
    "clothing = {0 : 'T-shirt/top',\n",
    "            1 : 'Trouser',\n",
    "            2 : 'Pullover',\n",
    "            3 : 'Dress',\n",
    "            4 : 'Coat',\n",
    "            5 : 'Sandal',\n",
    "            6 : 'Shirt',\n",
    "            7 : 'Sneaker',\n",
    "            8 : 'Bag',\n",
    "            9 : 'Ankle boot'}"
   ]
  },
  {
   "cell_type": "code",
   "execution_count": 189,
   "id": "b26f4b63-444b-4d72-a4bb-444e87ce0915",
   "metadata": {},
   "outputs": [
    {
     "name": "stderr",
     "output_type": "stream",
     "text": [
      "COMET WARNING: As you are running in a Jupyter environment, you will need to call `experiment.end()` when finished to ensure all metrics and code are logged before exiting.\n",
      "COMET INFO: Experiment is live on comet.ml http://161.92.208.196/ashishpal/demo-project-3/a1ce5aa1d3c54a119fe9982dc357d1db\n",
      "\n"
     ]
    }
   ],
   "source": [
    "# point comet_ml SDK to 161.92.208.196 installation\n",
    "import os\n",
    "os.environ[\"COMET_URL_OVERRIDE\"] = \"http://161.92.208.196/clientlib/\"\n",
    "\n",
    "# import comet_ml at the top of your file\n",
    "from comet_ml import Experiment\n",
    "\n",
    "# Create an experiment with your api key\n",
    "experiment = Experiment(\n",
    "    auto_metric_logging=True,\n",
    "    auto_param_logging=True,\n",
    "    auto_histogram_weight_logging=True,\n",
    "    auto_histogram_gradient_logging=True,\n",
    "    auto_histogram_activation_logging=True,\n",
    "    api_key=\"x82uzJjUBAwzczXdXnKPxN22O\",\n",
    "    project_name=\"demo-project-3\",\n",
    "    workspace=\"ashishpal\",\n",
    ")"
   ]
  },
  {
   "cell_type": "code",
   "execution_count": 190,
   "id": "99987c1d-0886-4c3f-ad93-994e50e79ad2",
   "metadata": {},
   "outputs": [
    {
     "name": "stderr",
     "output_type": "stream",
     "text": [
      "COMET INFO: ---------------------------\n",
      "COMET INFO: Comet.ml Experiment Summary\n",
      "COMET INFO: ---------------------------\n",
      "COMET INFO:   Data:\n",
      "COMET INFO:     display_summary_level : 1\n",
      "COMET INFO:     url                   : http://161.92.208.196/ashishpal/demo-project-3/a1ce5aa1d3c54a119fe9982dc357d1db\n",
      "COMET INFO:   Uploads:\n",
      "COMET INFO:     environment details : 1\n",
      "COMET INFO:     filename            : 1\n",
      "COMET INFO:     git metadata        : 1\n",
      "COMET INFO:     installed packages  : 1\n",
      "COMET INFO: ---------------------------\n",
      "COMET WARNING: As you are running in a Jupyter environment, you will need to call `experiment.end()` when finished to ensure all metrics and code are logged before exiting.\n",
      "COMET INFO: Experiment is live on comet.ml http://161.92.208.196/ashishpal/demo-project-2/d18ef948c0e64a278ca5618d8ca81e90\n",
      "\n"
     ]
    }
   ],
   "source": [
    "# point comet_ml SDK to 161.92.208.196 installation\n",
    "import os\n",
    "os.environ[\"COMET_URL_OVERRIDE\"] = \"http://161.92.208.196/clientlib/\"\n",
    "\n",
    "# import comet_ml at the top of your file\n",
    "from comet_ml import Experiment\n",
    "\n",
    "# Create an experiment with your api key\n",
    "experiment = Experiment(\n",
    "    auto_metric_logging=True,\n",
    "    auto_param_logging=True,\n",
    "    auto_histogram_weight_logging=True,\n",
    "    auto_histogram_gradient_logging=True,\n",
    "    auto_histogram_activation_logging=True,\n",
    "    api_key=\"xxxxxxxxxxxxxxxx\",\n",
    "    project_name=\"demo-project-2\",\n",
    "    workspace=\"ashishpal\",\n",
    ")"
   ]
  },
  {
   "cell_type": "code",
   "execution_count": 192,
   "id": "545722c4-12f8-4638-8174-e3730e3bb58a",
   "metadata": {},
   "outputs": [],
   "source": [
    "import tensorflow as tf\n",
    "import keras"
   ]
  },
  {
   "cell_type": "code",
   "execution_count": 193,
   "id": "6682641c-9e03-44af-8934-b2871336670c",
   "metadata": {},
   "outputs": [],
   "source": [
    "from tensorflow.keras.datasets import fashion_mnist\n",
    "(x_train, y_train), (x_test, y_test) = fashion_mnist.load_data()"
   ]
  },
  {
   "cell_type": "code",
   "execution_count": 194,
   "id": "bab6a3b2-884a-47b8-8edb-87df213a4431",
   "metadata": {},
   "outputs": [],
   "source": [
    "y_train = keras.utils.to_categorical(y_train, num_classes=10)\n",
    "y_test = keras.utils.to_categorical(y_test, num_classes=10)"
   ]
  },
  {
   "cell_type": "code",
   "execution_count": 195,
   "id": "de06f4eb-d686-4947-9af8-ba0ff5b4f58f",
   "metadata": {},
   "outputs": [],
   "source": [
    "x_train = x_train.astype('float32')\n",
    "x_test = x_test.astype('float32')\n",
    "x_train /= 255\n",
    "x_test /= 255"
   ]
  },
  {
   "cell_type": "code",
   "execution_count": 196,
   "id": "a09ff28d-81be-4c41-b476-7bf91b2d4602",
   "metadata": {},
   "outputs": [],
   "source": [
    "x_train = x_train.reshape(x_train.shape[0], 28, 28, 1)\n",
    "x_test = x_test.reshape(x_test.shape[0], 28, 28, 1)"
   ]
  },
  {
   "cell_type": "code",
   "execution_count": 197,
   "id": "5faf5fa1-2f62-4223-9a78-2bf2225b93cd",
   "metadata": {},
   "outputs": [],
   "source": [
    "import numpy as np\n",
    "import keras\n",
    "from tensorflow.keras.models import Sequential\n",
    "from tensorflow.keras.layers import Dense, Activation, Dropout, Flatten, Reshape\n",
    "from tensorflow.keras.layers import Convolution2D, MaxPooling2D\n",
    "from keras.utils import np_utils"
   ]
  },
  {
   "cell_type": "code",
   "execution_count": 198,
   "id": "d8165389-9ebb-49ff-a0e0-acdce53ccc5f",
   "metadata": {},
   "outputs": [],
   "source": [
    "# Deine Model\n",
    "model3 = Sequential()\n",
    "\n",
    "# 1st Conv Layer\n",
    "model3.add(Convolution2D(32, 3, 3, input_shape=(28, 28, 1)))\n",
    "model3.add(Activation('relu'))\n",
    "\n",
    "# 2nd Conv Layer\n",
    "model3.add(Convolution2D(32, 3, 3))\n",
    "model3.add(Activation('relu'))\n",
    "\n",
    "# Max Pooling\n",
    "model3.add(MaxPooling2D(pool_size=(2,2)))\n",
    "\n",
    "# Dropout\n",
    "model3.add(Dropout(0.2))\n",
    "\n",
    "# Fully Connected Layer\n",
    "model3.add(Flatten())\n",
    "model3.add(Dense(128))\n",
    "model3.add(Activation('relu'))\n",
    "\n",
    "# More Dropout\n",
    "model3.add(Dropout(0.2))\n",
    "\n",
    "# Prediction Layer\n",
    "model3.add(Dense(10))\n",
    "model3.add(Activation('softmax'))\n",
    "\n",
    "# Loss and Optimizer\n",
    "model3.compile(loss='categorical_crossentropy', optimizer='adam', metrics=['accuracy'])\n",
    "\n"
   ]
  },
  {
   "cell_type": "code",
   "execution_count": 199,
   "id": "669d2fee-7f9c-4752-8303-0feafb5178a6",
   "metadata": {},
   "outputs": [
    {
     "name": "stdout",
     "output_type": "stream",
     "text": [
      "Model: \"sequential_11\"\n",
      "_________________________________________________________________\n",
      "Layer (type)                 Output Shape              Param #   \n",
      "=================================================================\n",
      "conv2d_22 (Conv2D)           (None, 9, 9, 32)          320       \n",
      "_________________________________________________________________\n",
      "activation_44 (Activation)   (None, 9, 9, 32)          0         \n",
      "_________________________________________________________________\n",
      "conv2d_23 (Conv2D)           (None, 3, 3, 32)          9248      \n",
      "_________________________________________________________________\n",
      "activation_45 (Activation)   (None, 3, 3, 32)          0         \n",
      "_________________________________________________________________\n",
      "max_pooling2d_11 (MaxPooling (None, 1, 1, 32)          0         \n",
      "_________________________________________________________________\n",
      "dropout_22 (Dropout)         (None, 1, 1, 32)          0         \n",
      "_________________________________________________________________\n",
      "flatten_11 (Flatten)         (None, 32)                0         \n",
      "_________________________________________________________________\n",
      "dense_22 (Dense)             (None, 128)               4224      \n",
      "_________________________________________________________________\n",
      "activation_46 (Activation)   (None, 128)               0         \n",
      "_________________________________________________________________\n",
      "dropout_23 (Dropout)         (None, 128)               0         \n",
      "_________________________________________________________________\n",
      "dense_23 (Dense)             (None, 10)                1290      \n",
      "_________________________________________________________________\n",
      "activation_47 (Activation)   (None, 10)                0         \n",
      "=================================================================\n",
      "Total params: 15,082\n",
      "Trainable params: 15,082\n",
      "Non-trainable params: 0\n",
      "_________________________________________________________________\n"
     ]
    }
   ],
   "source": [
    "model3.summary()"
   ]
  },
  {
   "cell_type": "code",
   "execution_count": 200,
   "id": "2cbea389-3fc5-44b4-95c5-320b7af76e74",
   "metadata": {},
   "outputs": [],
   "source": [
    "import os\n",
    "#os.mkdir(\"my_logs\")\n",
    "root_logdir = os.path.join(os.curdir, \"my_logs\")\n",
    "def get_run_logdir():\n",
    "    import time\n",
    "    run_id = time.strftime(\"run_%Y_%m_%d-%H_%M_%S\")\n",
    "    return os.path.join(root_logdir, run_id)\n",
    "\n",
    "run_logdir = get_run_logdir()\n",
    "checkpoint_cb = tf.keras.callbacks.ModelCheckpoint(\"my_keras_model.h5\")\n",
    "tensorboard_cb = tf.keras.callbacks.TensorBoard(run_logdir)\n",
    "# Store Training Results\n",
    "early_stopping = tf.keras.callbacks.EarlyStopping(monitor='val_accuracy', patience=5, verbose=1, mode='auto')\n",
    "callback_list = [tensorboard_cb,checkpoint_cb,early_stopping]"
   ]
  },
  {
   "cell_type": "code",
   "execution_count": 201,
   "id": "0558d5ee-79ea-407e-b17a-72953eba60a4",
   "metadata": {},
   "outputs": [
    {
     "name": "stdout",
     "output_type": "stream",
     "text": [
      "Epoch 1/10\n",
      "   2/1875 [..............................] - ETA: 1:03 - loss: 2.3029 - accuracy: 0.1094WARNING:tensorflow:Callbacks method `on_train_batch_end` is slow compared to the batch time (batch time: 0.0043s vs `on_train_batch_end` time: 0.0619s). Check your callbacks.\n",
      "1875/1875 [==============================] - 5s 3ms/step - loss: 0.9374 - accuracy: 0.6562 - val_loss: 0.6514 - val_accuracy: 0.7593\n",
      "Epoch 2/10\n",
      "1875/1875 [==============================] - 4s 2ms/step - loss: 0.6887 - accuracy: 0.7500 - val_loss: 0.5818 - val_accuracy: 0.7832\n",
      "Epoch 3/10\n",
      "1875/1875 [==============================] - 4s 2ms/step - loss: 0.6287 - accuracy: 0.7693 - val_loss: 0.5529 - val_accuracy: 0.7897\n",
      "Epoch 4/10\n",
      "1875/1875 [==============================] - 4s 2ms/step - loss: 0.5990 - accuracy: 0.7800 - val_loss: 0.5271 - val_accuracy: 0.8063\n",
      "Epoch 5/10\n",
      "1875/1875 [==============================] - 4s 2ms/step - loss: 0.5763 - accuracy: 0.7886 - val_loss: 0.5167 - val_accuracy: 0.8070\n",
      "Epoch 6/10\n",
      "1875/1875 [==============================] - 4s 2ms/step - loss: 0.5594 - accuracy: 0.7935 - val_loss: 0.5101 - val_accuracy: 0.8063\n",
      "Epoch 7/10\n",
      "1875/1875 [==============================] - 4s 2ms/step - loss: 0.5486 - accuracy: 0.7985 - val_loss: 0.4998 - val_accuracy: 0.8155\n",
      "Epoch 8/10\n",
      "1875/1875 [==============================] - 4s 2ms/step - loss: 0.5363 - accuracy: 0.8022 - val_loss: 0.4948 - val_accuracy: 0.8181\n",
      "Epoch 9/10\n",
      "1875/1875 [==============================] - 4s 2ms/step - loss: 0.5275 - accuracy: 0.8054 - val_loss: 0.4904 - val_accuracy: 0.8233\n",
      "Epoch 10/10\n",
      "1875/1875 [==============================] - 4s 2ms/step - loss: 0.5201 - accuracy: 0.8088 - val_loss: 0.4894 - val_accuracy: 0.8214\n"
     ]
    }
   ],
   "source": [
    "history = model3.fit(x_train, y_train, batch_size=32, epochs=10, \n",
    "          validation_data=(x_test, y_test), callbacks=callback_list)"
   ]
  },
  {
   "cell_type": "code",
   "execution_count": 203,
   "id": "c60ae93a-ab87-4716-84b8-83874e39a431",
   "metadata": {},
   "outputs": [
    {
     "data": {
      "image/png": "[encoded data removed]",
      "text/plain": [
       "<Figure size 576x360 with 1 Axes>"
      ]
     },
     "metadata": {
      "needs_background": "light"
     },
     "output_type": "display_data"
    }
   ],
   "source": [
    "import pandas as pd\n",
    "import matplotlib.pyplot as plt\n",
    "\n",
    "pd.DataFrame(history.history).plot(figsize=(8, 5))\n",
    "plt.grid(True)\n",
    "plt.gca().set_ylim(0, 1) # set the vertical range to [0-1]\n",
    "plt.show()\n"
   ]
  },
  {
   "cell_type": "code",
   "execution_count": 204,
   "id": "3420127a-bfae-4993-82af-79e53af77a0f",
   "metadata": {},
   "outputs": [
    {
     "name": "stdout",
     "output_type": "stream",
     "text": [
      "313/313 [==============================] - 0s 944us/step - loss: 0.4894 - accuracy: 0.8214\n",
      "1875/1875 [==============================] - 3s 1ms/step - loss: 0.4365 - accuracy: 0.8374\n"
     ]
    }
   ],
   "source": [
    "#will log metrics with the prefix 'test_'\n",
    "with experiment.test():\n",
    "    test_loss, test_accuracy = model3.evaluate(x_test, y_test)\n",
    "    train_loss, train_accuracy = model3.evaluate(x_train, y_train)\n",
    "    metrics = {\n",
    "        'train_loss':train_loss,\n",
    "        'train_accuracy':train_accuracy,\n",
    "        'test_loss':test_loss,\n",
    "        'test_accuracy':test_accuracy,\n",
    "    }\n",
    "    experiment.log_metrics(metrics)\n",
    "\n",
    "experiment.log_dataset_hash(x_train) "
   ]
  },
  {
   "cell_type": "code",
   "execution_count": 205,
   "id": "781f8c2f-54fe-48d4-b736-ca3676c04615",
   "metadata": {},
   "outputs": [
    {
     "data": {
      "text/plain": [
       "{'web': 'http://161.92.208.196/api/asset/download?assetId=0a13b6d6161f4725954ccbcb66443af1&experimentKey=d18ef948c0e64a278ca5618d8ca81e90',\n",
       " 'api': 'http://161.92.208.196/api/rest/v2/experiment/asset/get-asset?assetId=0a13b6d6161f4725954ccbcb66443af1&experimentKey=d18ef948c0e64a278ca5618d8ca81e90',\n",
       " 'assetId': '0a13b6d6161f4725954ccbcb66443af1'}"
      ]
     },
     "execution_count": 205,
     "metadata": {},
     "output_type": "execute_result"
    }
   ],
   "source": [
    "experiment.log_model(\"FASHION MNIST TF1\", \"my_keras_model.h5\")"
   ]
  },
  {
   "cell_type": "code",
   "execution_count": 206,
   "id": "67d86d02-dad9-456c-a330-7cefd9258560",
   "metadata": {},
   "outputs": [],
   "source": [
    "Y_pred = model3.predict(x_test)\n",
    "Y_pred_classes = np.argmax(Y_pred,axis = 1) "
   ]
  },
  {
   "cell_type": "code",
   "execution_count": 207,
   "id": "50c9e3db-1ce6-411e-aff3-42fb9c4485b0",
   "metadata": {},
   "outputs": [],
   "source": [
    "Y_true = np.argmax(y_test,axis = 1) "
   ]
  },
  {
   "cell_type": "code",
   "execution_count": 208,
   "id": "baf0df16-e61e-45a6-a9d3-c332a5da9ac8",
   "metadata": {},
   "outputs": [],
   "source": [
    "def index_to_example(index):\n",
    "    image_array = x_test[index]\n",
    "    image_name = \"confusion-matrix-%05d.png\" % index\n",
    "    results = experiment.log_image(\n",
    "        image_array, name=image_name, image_shape=(28, 28, 1)\n",
    "    )\n",
    "    # Return sample, assetId (index is added automatically)\n",
    "    return {\"sample\": image_name, \"assetId\": results[\"imageId\"]}"
   ]
  },
  {
   "cell_type": "code",
   "execution_count": 209,
   "id": "f57b6f0b-004d-47a3-acd6-749097d3a481",
   "metadata": {},
   "outputs": [
    {
     "data": {
      "text/plain": [
       "{'web': 'http://161.92.208.196/api/asset/download?assetId=df16bf94ce054cae88da6640f0f0d1e3&experimentKey=d18ef948c0e64a278ca5618d8ca81e90',\n",
       " 'api': 'http://161.92.208.196/api/rest/v2/experiment/asset/get-asset?assetId=df16bf94ce054cae88da6640f0f0d1e3&experimentKey=d18ef948c0e64a278ca5618d8ca81e90',\n",
       " 'assetId': 'df16bf94ce054cae88da6640f0f0d1e3'}"
      ]
     },
     "execution_count": 209,
     "metadata": {},
     "output_type": "execute_result"
    }
   ],
   "source": [
    "experiment.log_confusion_matrix(Y_true, Y_pred_classes , \n",
    "                labels = ['T-shirt/Top','Trouser','Pullover','Dress','Coat','Sandal','Shirt','Sneaker','Bag','Ankle Boot'],\n",
    "                index_to_example_function=index_to_example) "
   ]
  },
  {
   "cell_type": "code",
   "execution_count": 168,
   "id": "4e9e86f2-545e-4cd2-9017-9e8d2be8326d",
   "metadata": {},
   "outputs": [],
   "source": [
    "correct = []\n",
    "for i in range(len(y_test)):\n",
    "    if(Y_pred_classes[i] == Y_true[i]):\n",
    "        correct.append(i)\n",
    "    if(len(correct) == 4):\n",
    "        break"
   ]
  },
  {
   "cell_type": "code",
   "execution_count": 169,
   "id": "ea37ff09-0856-4f98-b30e-06e906c4df1d",
   "metadata": {},
   "outputs": [
    {
     "data": {
      "text/plain": [
       "{'web': 'http://161.92.208.196/api/image/download?imageId=1bd72893388646298500bb0a1c0cbd70&experimentKey=6080714a066e4a2482b3311580880b7a',\n",
       " 'api': 'http://161.92.208.196/api/rest/v1/image/get-image?imageId=1bd72893388646298500bb0a1c0cbd70&experimentKey=6080714a066e4a2482b3311580880b7a',\n",
       " 'imageId': '1bd72893388646298500bb0a1c0cbd70'}"
      ]
     },
     "execution_count": 169,
     "metadata": {},
     "output_type": "execute_result"
    },
    {
     "data": {
      "image/png": "[encoded data removed]",
      "text/plain": [
       "<Figure size 720x720 with 4 Axes>"
      ]
     },
     "metadata": {
      "needs_background": "light"
     },
     "output_type": "display_data"
    }
   ],
   "source": [
    "fig, ax = plt.subplots(2,2, figsize=(12,6))\n",
    "\n",
    "fig.set_size_inches(10,10)\n",
    "ax[0,0].imshow(x_test[correct[0]].reshape(28,28), cmap='gray')\n",
    "ax[0,0].set_title(\"Predicted Label : \" + str(clothing[Y_pred_classes[correct[0]]]) + \"\\n\"+\"Actual Label : \" + \n",
    "                 str(clothing[Y_true[correct[0]]]))\n",
    "ax[0,1].imshow(x_test[correct[1]].reshape(28,28), cmap='gray')\n",
    "ax[0,1].set_title(\"Predicted Label : \" + str(clothing[Y_pred_classes[correct[1]]]) + \"\\n\"+\"Actual Label : \" + \n",
    "                 str(clothing[Y_true[correct[1]]]))\n",
    "ax[1,0].imshow(x_test[correct[2]].reshape(28,28), cmap='gray')\n",
    "ax[1,0].set_title(\"Predicted Label : \" + str(clothing[Y_pred_classes[correct[2]]]) + \"\\n\"+\"Actual Label : \" + \n",
    "                 str(clothing[Y_true[correct[2]]]))\n",
    "ax[1,1].imshow(x_test[correct[3]].reshape(28,28), cmap='gray')\n",
    "ax[1,1].set_title(\"Predicted Label : \" + str(clothing[Y_pred_classes[correct[3]]]) + \"\\n\"+\"Actual Label : \" + \n",
    "                 str(clothing[Y_true[correct[3]]]))\n",
    "experiment.log_figure(figure_name = \"Correctly Predicted Classes\" ,figure =  fig)"
   ]
  },
  {
   "cell_type": "code",
   "execution_count": 170,
   "id": "589836ed-1063-4124-a124-fdede2e72212",
   "metadata": {},
   "outputs": [],
   "source": [
    "incorrect = []\n",
    "for i in range(len(y_test)):\n",
    "    if(not Y_pred_classes[i] == Y_true[i]):\n",
    "        incorrect.append(i)\n",
    "    if(len(incorrect) == 4):\n",
    "        break"
   ]
  },
  {
   "cell_type": "code",
   "execution_count": 171,
   "id": "ab2406be-242c-4a2e-a4e7-5372e2564198",
   "metadata": {},
   "outputs": [
    {
     "data": {
      "text/plain": [
       "{'web': 'http://161.92.208.196/api/image/download?imageId=3af4f21a88da4b48aa38f40dcfa50e56&experimentKey=6080714a066e4a2482b3311580880b7a',\n",
       " 'api': 'http://161.92.208.196/api/rest/v1/image/get-image?imageId=3af4f21a88da4b48aa38f40dcfa50e56&experimentKey=6080714a066e4a2482b3311580880b7a',\n",
       " 'imageId': '3af4f21a88da4b48aa38f40dcfa50e56'}"
      ]
     },
     "execution_count": 171,
     "metadata": {},
     "output_type": "execute_result"
    },
    {
     "data": {
      "image/png": "[encoded data removed]",
      "text/plain": [
       "<Figure size 720x720 with 4 Axes>"
      ]
     },
     "metadata": {
      "needs_background": "light"
     },
     "output_type": "display_data"
    }
   ],
   "source": [
    "fig, ax = plt.subplots(2,2, figsize=(12,6))\n",
    "fig.set_size_inches(10,10)\n",
    "ax[0,0].imshow(x_test[incorrect[0]].reshape(28,28), cmap='gray')\n",
    "ax[0,0].set_title(\"Predicted Label : \" + str(clothing[Y_pred_classes[incorrect[0]]]) + \"\\n\"+\"Actual Label : \" + \n",
    "                 str(clothing[Y_true[incorrect[0]]]))\n",
    "ax[0,1].imshow(x_test[incorrect[1]].reshape(28,28), cmap='gray')\n",
    "ax[0,1].set_title(\"Predicted Label : \" + str(clothing[Y_pred_classes[incorrect[1]]]) + \"\\n\"+\"Actual Label : \" + \n",
    "                 str(clothing[Y_true[incorrect[1]]]))\n",
    "ax[1,0].imshow(x_test[incorrect[2]].reshape(28,28), cmap='gray')\n",
    "ax[1,0].set_title(\"Predicted Label : \" + str(clothing[Y_pred_classes[incorrect[2]]]) + \"\\n\"+\"Actual Label : \" + \n",
    "                 str(clothing[Y_true[incorrect[2]]]))\n",
    "ax[1,1].imshow(x_test[incorrect[3]].reshape(28,28), cmap='gray')\n",
    "ax[1,1].set_title(\"Predicted Label : \" + str(clothing[Y_pred_classes[incorrect[3]]]) + \"\\n\"+\"Actual Label : \" + \n",
    "                 str(clothing[Y_true[incorrect[3]]]))\n",
    "experiment.log_figure(figure_name = \"Incorrectly Predicted Classes\", figure = fig)"
   ]
  },
  {
   "cell_type": "code",
   "execution_count": 210,
   "id": "78698f38-d8f6-450a-94c9-47ec0f76c962",
   "metadata": {},
   "outputs": [
    {
     "name": "stderr",
     "output_type": "stream",
     "text": [
      "COMET INFO: ---------------------------\n",
      "COMET INFO: Comet.ml Experiment Summary\n",
      "COMET INFO: ---------------------------\n",
      "COMET INFO:   Data:\n",
      "COMET INFO:     display_summary_level : 1\n",
      "COMET INFO:     url                   : http://161.92.208.196/ashishpal/demo-project-2/d18ef948c0e64a278ca5618d8ca81e90\n",
      "COMET INFO:   Metrics [count] (min, max):\n",
      "COMET INFO:     accuracy [10]                 : (0.6562166810035706, 0.80881667137146)\n",
      "COMET INFO:     batch_accuracy [1880]         : (0.12215909361839294, 0.875)\n",
      "COMET INFO:     batch_loss [1880]             : (0.3420148193836212, 2.2976584434509277)\n",
      "COMET INFO:     epoch_duration [10]           : (3.5957936299964786, 5.226625642011641)\n",
      "COMET INFO:     loss [10]                     : (0.5200531482696533, 0.9373955130577087)\n",
      "COMET INFO:     test_test_accuracy            : 0.821399986743927\n",
      "COMET INFO:     test_test_loss                : 0.48935848474502563\n",
      "COMET INFO:     test_train_accuracy           : 0.8373833298683167\n",
      "COMET INFO:     test_train_loss               : 0.43645134568214417\n",
      "COMET INFO:     val_accuracy [10]             : (0.7592999935150146, 0.8233000040054321)\n",
      "COMET INFO:     val_loss [10]                 : (0.48935848474502563, 0.6514281034469604)\n",
      "COMET INFO:     validate_batch_accuracy [320] : (0.71875, 0.84375)\n",
      "COMET INFO:     validate_batch_loss [320]     : (0.46681320667266846, 0.8347947001457214)\n",
      "COMET INFO:   Others:\n",
      "COMET INFO:     trainable_params : 15082\n",
      "COMET INFO:   Parameters:\n",
      "COMET INFO:     Adam_amsgrad       : 1\n",
      "COMET INFO:     Adam_beta_1        : 0.9\n",
      "COMET INFO:     Adam_beta_2        : 0.999\n",
      "COMET INFO:     Adam_decay         : 1\n",
      "COMET INFO:     Adam_epsilon       : 1e-07\n",
      "COMET INFO:     Adam_learning_rate : 0.001\n",
      "COMET INFO:     Adam_name          : Adam\n",
      "COMET INFO:     Optimizer          : Adam\n",
      "COMET INFO:     epochs             : 10\n",
      "COMET INFO:     steps              : 1875\n",
      "COMET INFO:   Uploads [count]:\n",
      "COMET INFO:     confusion-matrix    : 1\n",
      "COMET INFO:     environment details : 1\n",
      "COMET INFO:     filename            : 1\n",
      "COMET INFO:     git metadata        : 1\n",
      "COMET INFO:     histogram3d [99]    : 99\n",
      "COMET INFO:     images [993]        : 993\n",
      "COMET INFO:     installed packages  : 1\n",
      "COMET INFO:     model graph         : 1\n",
      "COMET INFO:     model-element       : 1\n",
      "COMET INFO:     notebook            : 1\n",
      "COMET INFO:     source_code         : 1\n",
      "COMET INFO: ---------------------------\n",
      "COMET INFO: Uploading 1 metrics, params and output messages\n"
     ]
    }
   ],
   "source": [
    "experiment.end()"
   ]
  },
  {
   "cell_type": "code",
   "execution_count": null,
   "id": "8a934bda-7864-4ef7-8a4f-424ef14e65aa",
   "metadata": {},
   "outputs": [],
   "source": []
  },
  {
   "cell_type": "code",
   "execution_count": null,
   "id": "bd802ece-49d2-4712-a90b-ba1861ef5883",
   "metadata": {},
   "outputs": [],
   "source": []
  }
 ],
 "metadata": {
  "kernelspec": {
   "display_name": "Python 3",
   "language": "python",
   "name": "python3"
  },
  "language_info": {
   "codemirror_mode": {
    "name": "ipython",
    "version": 3
   },
   "file_extension": ".py",
   "mimetype": "text/x-python",
   "name": "python",
   "nbconvert_exporter": "python",
   "pygments_lexer": "ipython3",
   "version": "3.7.6"
  }
 },
 "nbformat": 4,
 "nbformat_minor": 5
}
