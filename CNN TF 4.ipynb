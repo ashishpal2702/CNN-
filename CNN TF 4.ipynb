{
 "cells": [
  {
   "cell_type": "markdown",
   "metadata": {
    "colab_type": "text",
    "id": "MyfMmMnPJjvn"
   },
   "source": [
    "## Train a simple convnet on the Fashion MNIST dataset with Data Augmentation"
   ]
  },
  {
   "cell_type": "markdown",
   "metadata": {
    "colab_type": "text",
    "id": "zjcGOJhcJjvp"
   },
   "source": [
    "In this, we will see how to deal with image data and train a convnet for image classification task."
   ]
  },
  {
   "cell_type": "markdown",
   "metadata": {
    "colab_type": "text",
    "id": "jR0Pl2XjJjvq"
   },
   "source": [
    "### Load the  `fashion_mnist`  dataset\n",
    "\n",
    "** Use keras.datasets to load the dataset **"
   ]
  },
  {
   "cell_type": "code",
   "execution_count": 2,
   "metadata": {},
   "outputs": [
    {
     "name": "stderr",
     "output_type": "stream",
     "text": [
      "COMET INFO: ---------------------------\n",
      "COMET INFO: Comet.ml Experiment Summary\n",
      "COMET INFO: ---------------------------\n",
      "COMET INFO:   Data:\n",
      "COMET INFO:     display_summary_level : 1\n",
      "COMET INFO:     url                   : https://www.comet.ml/ashishpal2702/fashion-mnist/d2599077bb7b4a438043737dc2310df6\n",
      "COMET INFO:   Uploads:\n",
      "COMET INFO:     environment details : 1\n",
      "COMET INFO:     filename            : 1\n",
      "COMET INFO:     git metadata        : 1\n",
      "COMET INFO:     installed packages  : 1\n",
      "COMET INFO: ---------------------------\n",
      "COMET INFO: Experiment is live on comet.ml https://www.comet.ml/ashishpal2702/fashion-mnist/f95b37e3d33f4fb2b081d51d7be85142\n",
      "\n"
     ]
    }
   ],
   "source": [
    "from comet_ml import Experiment\n",
    "experiment = Experiment(\n",
    "    auto_metric_logging=True,\n",
    "    auto_param_logging=True,\n",
    "    auto_histogram_weight_logging=True,\n",
    "    auto_histogram_gradient_logging=True,\n",
    "    auto_histogram_activation_logging=True,\n",
    "    project_name=\"FASHION MNIST\" , api_key = \"xxxxxxxxxxx\" , log_code = True)\n"
   ]
  },
  {
   "cell_type": "code",
   "execution_count": 3,
   "metadata": {},
   "outputs": [
    {
     "name": "stderr",
     "output_type": "stream",
     "text": [
      "Using TensorFlow backend.\n"
     ]
    }
   ],
   "source": [
    "import tensorflow as tf\n",
    "import keras"
   ]
  },
  {
   "cell_type": "code",
   "execution_count": 4,
   "metadata": {},
   "outputs": [],
   "source": [
    "from tensorflow.keras.datasets import fashion_mnist\n",
    "(x_train, y_train), (x_test, y_test) = fashion_mnist.load_data()"
   ]
  },
  {
   "cell_type": "code",
   "execution_count": 6,
   "metadata": {},
   "outputs": [],
   "source": [
    "y_train = keras.utils.to_categorical(y_train, num_classes=10)\n",
    "y_test = keras.utils.to_categorical(y_test, num_classes=10)"
   ]
  },
  {
   "cell_type": "code",
   "execution_count": 7,
   "metadata": {},
   "outputs": [],
   "source": [
    "x_train = x_train.astype('float32')\n",
    "x_test = x_test.astype('float32')\n",
    "x_train /= 255\n",
    "x_test /= 255"
   ]
  },
  {
   "cell_type": "code",
   "execution_count": 51,
   "metadata": {},
   "outputs": [],
   "source": [
    "# Mapping Classes\n",
    "clothing = {0 : 'T-shirt/top',\n",
    "            1 : 'Trouser',\n",
    "            2 : 'Pullover',\n",
    "            3 : 'Dress',\n",
    "            4 : 'Coat',\n",
    "            5 : 'Sandal',\n",
    "            6 : 'Shirt',\n",
    "            7 : 'Sneaker',\n",
    "            8 : 'Bag',\n",
    "            9 : 'Ankle boot'}"
   ]
  },
  {
   "cell_type": "code",
   "execution_count": 8,
   "metadata": {},
   "outputs": [],
   "source": [
    "x_train = x_train.reshape(x_train.shape[0], 28, 28, 1)\n",
    "x_test = x_test.reshape(x_test.shape[0], 28, 28, 1)"
   ]
  },
  {
   "cell_type": "code",
   "execution_count": 9,
   "metadata": {},
   "outputs": [],
   "source": [
    "import numpy as np\n",
    "import keras\n",
    "from tensorflow.keras.models import Sequential\n",
    "from tensorflow.keras.layers import Dense, Activation, Dropout, Flatten, Reshape\n",
    "from tensorflow.keras.layers import Convolution2D, MaxPooling2D\n",
    "from keras.utils import np_utils"
   ]
  },
  {
   "cell_type": "code",
   "execution_count": 11,
   "metadata": {},
   "outputs": [],
   "source": [
    "# Deine Model\n",
    "model4 = Sequential()\n",
    "\n",
    "model4.add(Convolution2D(32, 3, 3, input_shape=(28, 28, 1)))\n",
    "model4.add(Activation('relu'))\n",
    "model4.add(Convolution2D(32, 3, 3))\n",
    "model4.add(Activation('relu'))\n",
    "model4.add(MaxPooling2D(pool_size=(2,2)))\n",
    "model4.add(Convolution2D(filters=64, kernel_size=(3,3), padding=\"same\", activation=\"relu\"))\n",
    "model4.add(Convolution2D(filters=64, kernel_size=(3,3), padding=\"same\", activation=\"relu\"))\n",
    "model4.add(Flatten())\n",
    "model4.add(Dense(units=1024,activation=\"relu\"))\n",
    "model4.add(Dense(units=10, activation=\"softmax\"))\n",
    "\n",
    "# Loss and Optimizer\n",
    "model4.compile(loss='categorical_crossentropy', optimizer='adam', metrics=['accuracy'])\n",
    "\n"
   ]
  },
  {
   "cell_type": "code",
   "execution_count": 12,
   "metadata": {},
   "outputs": [
    {
     "name": "stdout",
     "output_type": "stream",
     "text": [
      "Model: \"sequential_1\"\n",
      "_________________________________________________________________\n",
      "Layer (type)                 Output Shape              Param #   \n",
      "=================================================================\n",
      "conv2d_2 (Conv2D)            (None, 9, 9, 32)          320       \n",
      "_________________________________________________________________\n",
      "activation_2 (Activation)    (None, 9, 9, 32)          0         \n",
      "_________________________________________________________________\n",
      "conv2d_3 (Conv2D)            (None, 3, 3, 32)          9248      \n",
      "_________________________________________________________________\n",
      "activation_3 (Activation)    (None, 3, 3, 32)          0         \n",
      "_________________________________________________________________\n",
      "max_pooling2d_1 (MaxPooling2 (None, 1, 1, 32)          0         \n",
      "_________________________________________________________________\n",
      "conv2d_4 (Conv2D)            (None, 1, 1, 64)          18496     \n",
      "_________________________________________________________________\n",
      "conv2d_5 (Conv2D)            (None, 1, 1, 64)          36928     \n",
      "_________________________________________________________________\n",
      "flatten (Flatten)            (None, 64)                0         \n",
      "_________________________________________________________________\n",
      "dense (Dense)                (None, 1024)              66560     \n",
      "_________________________________________________________________\n",
      "dense_1 (Dense)              (None, 10)                10250     \n",
      "=================================================================\n",
      "Total params: 141,802\n",
      "Trainable params: 141,802\n",
      "Non-trainable params: 0\n",
      "_________________________________________________________________\n"
     ]
    }
   ],
   "source": [
    "model4.summary()"
   ]
  },
  {
   "cell_type": "code",
   "execution_count": 13,
   "metadata": {},
   "outputs": [],
   "source": [
    "import os\n",
    "#os.mkdir(\"my_logs\")\n",
    "root_logdir = os.path.join(os.curdir, \"my_logs_aug\")\n",
    "def get_run_logdir():\n",
    "    import time\n",
    "    run_id = time.strftime(\"run_%Y_%m_%d-%H_%M_%S\")\n",
    "    return os.path.join(root_logdir, run_id)\n",
    "\n",
    "run_logdir = get_run_logdir()\n",
    "checkpoint_cb = keras.callbacks.ModelCheckpoint(\"my_keras_model_newmodel.h5\")\n",
    "tensorboard_cb = keras.callbacks.TensorBoard(run_logdir)\n",
    "# Store Training Results\n",
    "early_stopping = keras.callbacks.EarlyStopping(monitor='val_accuracy', patience=5, verbose=1, mode='auto')\n",
    "callback_list = [tensorboard_cb,checkpoint_cb,early_stopping]"
   ]
  },
  {
   "cell_type": "code",
   "execution_count": 62,
   "metadata": {},
   "outputs": [
    {
     "name": "stderr",
     "output_type": "stream",
     "text": [
      "COMET WARNING: Set model graph by 'keras' ignored; already called. Future attempts are silently ignored.\n"
     ]
    },
    {
     "name": "stdout",
     "output_type": "stream",
     "text": [
      "Train on 60000 samples, validate on 10000 samples\n",
      "Epoch 1/10\n",
      "60000/60000 [==============================] - 7s 115us/sample - loss: 0.5048 - accuracy: 0.8136 - val_loss: 0.5329 - val_accuracy: 0.8061\n",
      "Epoch 2/10\n",
      "60000/60000 [==============================] - 7s 116us/sample - loss: 0.4696 - accuracy: 0.8274 - val_loss: 0.4968 - val_accuracy: 0.8214\n",
      "Epoch 3/10\n",
      "60000/60000 [==============================] - 7s 119us/sample - loss: 0.4398 - accuracy: 0.8386 - val_loss: 0.4752 - val_accuracy: 0.8275\n",
      "Epoch 4/10\n",
      "60000/60000 [==============================] - 8s 131us/sample - loss: 0.4215 - accuracy: 0.8454 - val_loss: 0.4537 - val_accuracy: 0.8334\n",
      "Epoch 5/10\n",
      "60000/60000 [==============================] - 9s 147us/sample - loss: 0.4038 - accuracy: 0.8517 - val_loss: 0.4439 - val_accuracy: 0.8385\n",
      "Epoch 6/10\n",
      "60000/60000 [==============================] - 9s 155us/sample - loss: 0.3900 - accuracy: 0.8564 - val_loss: 0.4410 - val_accuracy: 0.8429\n",
      "Epoch 7/10\n",
      "60000/60000 [==============================] - 9s 144us/sample - loss: 0.3789 - accuracy: 0.8608 - val_loss: 0.4367 - val_accuracy: 0.8427\n",
      "Epoch 8/10\n",
      "60000/60000 [==============================] - 8s 141us/sample - loss: 0.3684 - accuracy: 0.8647 - val_loss: 0.4429 - val_accuracy: 0.8423\n",
      "Epoch 9/10\n",
      "60000/60000 [==============================] - 9s 143us/sample - loss: 0.3601 - accuracy: 0.8666 - val_loss: 0.4265 - val_accuracy: 0.8480\n",
      "Epoch 10/10\n",
      "60000/60000 [==============================] - 8s 134us/sample - loss: 0.3526 - accuracy: 0.8690 - val_loss: 0.4306 - val_accuracy: 0.8500\n"
     ]
    }
   ],
   "source": [
    "#Fit_Generator\n",
    "history = model4.fit(x_train, y_train,\n",
    "                    batch_size=32,\n",
    "                    epochs=10,\n",
    "                    validation_data=(x_test, y_test), callbacks=callback_list)"
   ]
  },
  {
   "cell_type": "code",
   "execution_count": 21,
   "metadata": {},
   "outputs": [
    {
     "name": "stdout",
     "output_type": "stream",
     "text": [
      "10000/10000 [==============================] - 0s 40us/sample - loss: 0.5950 - accuracy: 0.7815\n"
     ]
    },
    {
     "data": {
      "text/plain": [
       "[0.5949513226985932, 0.7815]"
      ]
     },
     "execution_count": 21,
     "metadata": {},
     "output_type": "execute_result"
    }
   ],
   "source": [
    "model4.evaluate(x_test, y_test)"
   ]
  },
  {
   "cell_type": "code",
   "execution_count": 22,
   "metadata": {},
   "outputs": [
    {
     "data": {
      "image/png": "[encoded data removed]",
      "text/plain": [
       "<Figure size 576x360 with 1 Axes>"
      ]
     },
     "metadata": {
      "needs_background": "light"
     },
     "output_type": "display_data"
    }
   ],
   "source": [
    "import pandas as pd\n",
    "import matplotlib.pyplot as plt\n",
    "\n",
    "pd.DataFrame(history.history).plot(figsize=(8, 5))\n",
    "plt.grid(True)\n",
    "plt.gca().set_ylim(0, 1) # set the vertical range to [0-1]\n",
    "plt.show()\n"
   ]
  },
  {
   "cell_type": "code",
   "execution_count": 23,
   "metadata": {},
   "outputs": [
    {
     "name": "stdout",
     "output_type": "stream",
     "text": [
      "10000/10000 [==============================] - 0s 42us/sample - loss: 0.5950 - accuracy: 0.7815\n",
      "60000/60000 [==============================] - 2s 41us/sample - loss: 0.5549 - accuracy: 0.7983\n"
     ]
    }
   ],
   "source": [
    "#will log metrics with the prefix 'test_'\n",
    "with experiment.test():\n",
    "    test_loss, test_accuracy = model4.evaluate(x_test, y_test)\n",
    "    train_loss, train_accuracy = model4.evaluate(x_train, y_train)\n",
    "    metrics = {\n",
    "        'train_loss':train_loss,\n",
    "        'train_accuracy':train_accuracy,\n",
    "        'test_loss':test_loss,\n",
    "        'test_accuracy':test_accuracy,\n",
    "    }\n",
    "    experiment.log_metrics(metrics)\n",
    "\n",
    "experiment.log_dataset_hash(x_train) "
   ]
  },
  {
   "cell_type": "code",
   "execution_count": 63,
   "metadata": {},
   "outputs": [
    {
     "data": {
      "text/plain": [
       "{'web': 'https://www.comet.ml/api/asset/download?assetId=4abb8a4354e64918b63d1793a2cb7d2d&experimentKey=f95b37e3d33f4fb2b081d51d7be85142',\n",
       " 'api': 'https://www.comet.ml/api/rest/v2/experiment/asset/get-asset?assetId=4abb8a4354e64918b63d1793a2cb7d2d&experimentKey=f95b37e3d33f4fb2b081d51d7be85142',\n",
       " 'assetId': '4abb8a4354e64918b63d1793a2cb7d2d'}"
      ]
     },
     "execution_count": 63,
     "metadata": {},
     "output_type": "execute_result"
    }
   ],
   "source": [
    "experiment.log_model(\"FASHION MNIST modified vgg\", \"my_keras_model_newmodel.h5\")"
   ]
  },
  {
   "cell_type": "code",
   "execution_count": 30,
   "metadata": {},
   "outputs": [],
   "source": [
    "Y_pred = model4.predict(x_test)\n",
    "Y_pred_classes = np.argmax(Y_pred,axis = 1) "
   ]
  },
  {
   "cell_type": "code",
   "execution_count": 32,
   "metadata": {},
   "outputs": [],
   "source": [
    "Y_true = np.argmax(y_test,axis = 1) "
   ]
  },
  {
   "cell_type": "code",
   "execution_count": 61,
   "metadata": {},
   "outputs": [
    {
     "data": {
      "text/plain": [
       "{'web': 'https://www.comet.ml/api/asset/download?assetId=b01b7f636c3542d59627849178e09261&experimentKey=f95b37e3d33f4fb2b081d51d7be85142',\n",
       " 'api': 'https://www.comet.ml/api/rest/v2/experiment/asset/get-asset?assetId=b01b7f636c3542d59627849178e09261&experimentKey=f95b37e3d33f4fb2b081d51d7be85142',\n",
       " 'assetId': 'b01b7f636c3542d59627849178e09261'}"
      ]
     },
     "execution_count": 61,
     "metadata": {},
     "output_type": "execute_result"
    }
   ],
   "source": [
    "experiment.log_confusion_matrix(Y_true, Y_pred_classes , labels = ['T-shirt/Top','Trouser','Pullover','Dress','Coat','Sandal','Shirt','Sneaker','Bag','Ankle Boot']) "
   ]
  },
  {
   "cell_type": "markdown",
   "metadata": {},
   "source": [
    "## Correctly predicted"
   ]
  },
  {
   "cell_type": "code",
   "execution_count": 56,
   "metadata": {},
   "outputs": [],
   "source": [
    "correct = []\n",
    "for i in range(len(y_test)):\n",
    "    if(Y_pred_classes[i] == Y_true[i]):\n",
    "        correct.append(i)\n",
    "    if(len(correct) == 4):\n",
    "        break"
   ]
  },
  {
   "cell_type": "code",
   "execution_count": 58,
   "metadata": {},
   "outputs": [
    {
     "data": {
      "text/plain": [
       "{'web': 'https://www.comet.ml/api/image/download?imageId=7ab86e94250747d5a5488923f378a583&experimentKey=f95b37e3d33f4fb2b081d51d7be85142',\n",
       " 'api': 'https://www.comet.ml/api/rest/v1/image/get-image?imageId=7ab86e94250747d5a5488923f378a583&experimentKey=f95b37e3d33f4fb2b081d51d7be85142',\n",
       " 'imageId': '7ab86e94250747d5a5488923f378a583'}"
      ]
     },
     "execution_count": 58,
     "metadata": {},
     "output_type": "execute_result"
    },
    {
     "data": {
      "image/png": "[encoded data removed]",
      "text/plain": [
       "<Figure size 720x720 with 4 Axes>"
      ]
     },
     "metadata": {
      "needs_background": "light"
     },
     "output_type": "display_data"
    }
   ],
   "source": [
    "fig, ax = plt.subplots(2,2, figsize=(12,6))\n",
    "\n",
    "fig.set_size_inches(10,10)\n",
    "ax[0,0].imshow(x_test[correct[0]].reshape(28,28), cmap='gray')\n",
    "ax[0,0].set_title(\"Predicted Label : \" + str(clothing[Y_pred_classes[correct[0]]]) + \"\\n\"+\"Actual Label : \" + \n",
    "                 str(clothing[Y_true[correct[0]]]))\n",
    "ax[0,1].imshow(x_test[correct[1]].reshape(28,28), cmap='gray')\n",
    "ax[0,1].set_title(\"Predicted Label : \" + str(clothing[Y_pred_classes[correct[1]]]) + \"\\n\"+\"Actual Label : \" + \n",
    "                 str(clothing[Y_true[correct[1]]]))\n",
    "ax[1,0].imshow(x_test[correct[2]].reshape(28,28), cmap='gray')\n",
    "ax[1,0].set_title(\"Predicted Label : \" + str(clothing[Y_pred_classes[correct[2]]]) + \"\\n\"+\"Actual Label : \" + \n",
    "                 str(clothing[Y_true[correct[2]]]))\n",
    "ax[1,1].imshow(x_test[correct[3]].reshape(28,28), cmap='gray')\n",
    "ax[1,1].set_title(\"Predicted Label : \" + str(clothing[Y_pred_classes[correct[3]]]) + \"\\n\"+\"Actual Label : \" + \n",
    "                 str(clothing[Y_true[correct[3]]]))\n",
    "experiment.log_figure(figure_name = \"Correctly Predicted Classes\" ,figure =  fig)"
   ]
  },
  {
   "cell_type": "code",
   "execution_count": 59,
   "metadata": {},
   "outputs": [],
   "source": [
    "incorrect = []\n",
    "for i in range(len(y_test)):\n",
    "    if(not Y_pred_classes[i] == Y_true[i]):\n",
    "        incorrect.append(i)\n",
    "    if(len(incorrect) == 4):\n",
    "        break"
   ]
  },
  {
   "cell_type": "code",
   "execution_count": 60,
   "metadata": {},
   "outputs": [
    {
     "data": {
      "text/plain": [
       "{'web': 'https://www.comet.ml/api/image/download?imageId=eab0fa84d283473fa135c7039279aa27&experimentKey=f95b37e3d33f4fb2b081d51d7be85142',\n",
       " 'api': 'https://www.comet.ml/api/rest/v1/image/get-image?imageId=eab0fa84d283473fa135c7039279aa27&experimentKey=f95b37e3d33f4fb2b081d51d7be85142',\n",
       " 'imageId': 'eab0fa84d283473fa135c7039279aa27'}"
      ]
     },
     "execution_count": 60,
     "metadata": {},
     "output_type": "execute_result"
    },
    {
     "data": {
      "image/png": "[encoded data removed]",
      "text/plain": [
       "<Figure size 720x720 with 4 Axes>"
      ]
     },
     "metadata": {
      "needs_background": "light"
     },
     "output_type": "display_data"
    }
   ],
   "source": [
    "fig, ax = plt.subplots(2,2, figsize=(12,6))\n",
    "fig.set_size_inches(10,10)\n",
    "ax[0,0].imshow(x_test[incorrect[0]].reshape(28,28), cmap='gray')\n",
    "ax[0,0].set_title(\"Predicted Label : \" + str(clothing[Y_pred_classes[incorrect[0]]]) + \"\\n\"+\"Actual Label : \" + \n",
    "                 str(clothing[Y_true[incorrect[0]]]))\n",
    "ax[0,1].imshow(x_test[incorrect[1]].reshape(28,28), cmap='gray')\n",
    "ax[0,1].set_title(\"Predicted Label : \" + str(clothing[Y_pred_classes[incorrect[1]]]) + \"\\n\"+\"Actual Label : \" + \n",
    "                 str(clothing[Y_true[incorrect[1]]]))\n",
    "ax[1,0].imshow(x_test[incorrect[2]].reshape(28,28), cmap='gray')\n",
    "ax[1,0].set_title(\"Predicted Label : \" + str(clothing[Y_pred_classes[incorrect[2]]]) + \"\\n\"+\"Actual Label : \" + \n",
    "                 str(clothing[Y_true[incorrect[2]]]))\n",
    "ax[1,1].imshow(x_test[incorrect[3]].reshape(28,28), cmap='gray')\n",
    "ax[1,1].set_title(\"Predicted Label : \" + str(clothing[Y_pred_classes[incorrect[3]]]) + \"\\n\"+\"Actual Label : \" + \n",
    "                 str(clothing[Y_true[incorrect[3]]]))\n",
    "experiment.log_figure(figure_name = \"Incorrectly Predicted Classes\", figure = fig)"
   ]
  },
  {
   "cell_type": "code",
   "execution_count": null,
   "metadata": {},
   "outputs": [],
   "source": []
  }
 ],
 "metadata": {
  "accelerator": "GPU",
  "colab": {
   "collapsed_sections": [],
   "name": "R7_InternalLab_Solutions.ipynb",
   "provenance": []
  },
  "kernelspec": {
   "display_name": "Python 3",
   "language": "python",
   "name": "python3"
  },
  "language_info": {
   "codemirror_mode": {
    "name": "ipython",
    "version": 3
   },
   "file_extension": ".py",
   "mimetype": "text/x-python",
   "name": "python",
   "nbconvert_exporter": "python",
   "pygments_lexer": "ipython3",
   "version": "3.7.6"
  }
 },
 "nbformat": 4,
 "nbformat_minor": 4
}
